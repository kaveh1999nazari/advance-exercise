{
 "cells": [
  {
   "cell_type": "code",
   "execution_count": 14,
   "metadata": {},
   "outputs": [
    {
     "name": "stdout",
     "output_type": "stream",
     "text": [
      "####################################################\n",
      "                    wellcome to wordle game\n",
      "word = *****\n",
      "length word = 5\n",
      "chance = 6\n",
      "Let's go!\n",
      "####################################################\n",
      "feedback = **\u001b[34mt\u001b[0m\u001b[31mh\u001b[0m*\n",
      "oops! your chance = 5\n",
      "feedback = *\u001b[34mh\u001b[0m**\u001b[34mh\u001b[0m\n",
      "oops! your chance = 4\n",
      "congratulations! your guess is correct!\n",
      "####################################################\n"
     ]
    }
   ],
   "source": [
    "def wordle_game():\n",
    "    words = ['hello','apple','big','fight',\"python\",\"world\",\"happy\",\"help\" ,\"wonderfull\",\"pycharm\",\"adder\"]\n",
    "    select_word = random.choice(words)\n",
    "    lenght_word = len(select_word)\n",
    "    # wellcome:\n",
    "    print(f\"\"\"####################################################\n",
    "                    wellcome to wordle game\n",
    "word = {'*' * lenght_word}\n",
    "length word = {lenght_word}\n",
    "chance = 6\n",
    "Let's go!\n",
    "####################################################\"\"\")\n",
    "    # chance to guess correct\n",
    "    chance = 6 \n",
    "    while chance > 0:\n",
    "        guess = input('Enter your guess word =')\n",
    "\n",
    "        if guess == select_word:\n",
    "            print('congratulations! your guess is correct!')\n",
    "            break\n",
    "        else:\n",
    "            feedback = ''\n",
    "            for i in range(lenght_word):\n",
    "                if guess[i] == select_word[i]:\n",
    "                    feedback += colored(guess[i] , 'red')\n",
    "                elif guess[i] in select_word:\n",
    "                    feedback += colored(guess[i] , 'blue')\n",
    "                else:\n",
    "                    feedback += '*'\n",
    "            print(f'feedback = {feedback}')\n",
    "            chance -= 1\n",
    "            print(f'oops! your chance = {chance}')\n",
    "    print('####################################################')\n",
    "    if chance == 0:\n",
    "        print(f'curret word = {select_word}')\n",
    "import random\n",
    "from termcolor import colored\n",
    "wordle_game()\n",
    "\n"
   ]
  }
 ],
 "metadata": {
  "kernelspec": {
   "display_name": "Python 3",
   "language": "python",
   "name": "python3"
  },
  "language_info": {
   "codemirror_mode": {
    "name": "ipython",
    "version": 3
   },
   "file_extension": ".py",
   "mimetype": "text/x-python",
   "name": "python",
   "nbconvert_exporter": "python",
   "pygments_lexer": "ipython3",
   "version": "3.11.7"
  }
 },
 "nbformat": 4,
 "nbformat_minor": 2
}
