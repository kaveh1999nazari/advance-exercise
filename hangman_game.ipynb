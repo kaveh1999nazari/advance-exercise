{
 "cells": [
  {
   "cell_type": "code",
   "execution_count": 14,
   "metadata": {},
   "outputs": [
    {
     "name": "stdout",
     "output_type": "stream",
     "text": [
      "####################################################\n",
      "                    wellcome to hangman game\n",
      "word = **********\n",
      "length word = 10\n",
      "chance = 6\n",
      "Let's go!\n",
      "####################################################\n",
      "_ _ _ _ _ _ _ _ _ _ \n",
      "wonderfull\n",
      "congratulation! you win!\n"
     ]
    }
   ],
   "source": [
    "def hangman():\n",
    "    words = ['hello','apple','big','fight',\"python\",\"world\",\"happy\",\"help\" ,\"wonderfull\",\"pycharm\",\"adder\"]\n",
    "    choice = random.choice(words)\n",
    "    length_choice = len(choice)\n",
    "    print(f\"\"\"####################################################\n",
    "                    wellcome to hangman game\n",
    "word = {'*' * length_choice}\n",
    "length word = {length_choice}\n",
    "chance = 6\n",
    "Let's go!\n",
    "####################################################\"\"\")\n",
    "    print('_ '*length_choice)\n",
    "    chance = 6\n",
    "    while chance > 0 :\n",
    "        guess = input('Enter your word =').lower()\n",
    "        if guess == 'done' : break\n",
    "        feedback = ''\n",
    "\n",
    "        for i in range(length_choice):\n",
    "            if guess[i] == choice[i]:\n",
    "                feedback += guess[i]\n",
    "            else:\n",
    "                feedback += '_ '\n",
    "                \n",
    "                \n",
    "        print(feedback)\n",
    "\n",
    "        # check if is correct:\n",
    "        if feedback == guess:\n",
    "            print('congratulation! you win!')\n",
    "            break\n",
    "        else:\n",
    "            chance -= 1\n",
    "            print(f'oops! chance time = {chance}')\n",
    "   \n",
    "import random\n",
    "hangman()"
   ]
  }
 ],
 "metadata": {
  "kernelspec": {
   "display_name": "Python 3",
   "language": "python",
   "name": "python3"
  },
  "language_info": {
   "codemirror_mode": {
    "name": "ipython",
    "version": 3
   },
   "file_extension": ".py",
   "mimetype": "text/x-python",
   "name": "python",
   "nbconvert_exporter": "python",
   "pygments_lexer": "ipython3",
   "version": "3.11.7"
  }
 },
 "nbformat": 4,
 "nbformat_minor": 2
}
