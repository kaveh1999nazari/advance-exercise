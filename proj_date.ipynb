{
 "cells": [
  {
   "cell_type": "code",
   "execution_count": 14,
   "metadata": {},
   "outputs": [
    {
     "name": "stdout",
     "output_type": "stream",
     "text": [
      "          date  NationalCode  ActualClosingPrice\n",
      "68  1390-06-01  1.010002e+10         4714.116596\n",
      "           date  NationalCode  ActualClosingPrice\n",
      "105  1390-08-01  1.010002e+10         3192.092886\n",
      "           date  NationalCode  ActualClosingPrice\n",
      "147  1390-11-01  1.010002e+10         1738.093259\n",
      "           date  NationalCode  ActualClosingPrice\n",
      "191  1391-05-01  1.010002e+10         4794.056335\n",
      "           date  NationalCode  ActualClosingPrice\n",
      "211  1391-08-01  1.010002e+10         4382.757923\n",
      "           date  NationalCode  ActualClosingPrice\n",
      "277  1392-02-01  1.010002e+10         3350.809458\n",
      "           date  NationalCode  ActualClosingPrice\n",
      "299  1392-03-01  1.010002e+10         6583.831909\n",
      "           date  NationalCode  ActualClosingPrice\n",
      "317  1392-04-01  1.010002e+10          8999.06974\n",
      "           date  NationalCode  ActualClosingPrice\n",
      "362  1392-07-01  1.010002e+10        12861.726434\n",
      "           date  NationalCode  ActualClosingPrice\n",
      "380  1392-08-01  1.010002e+10         4566.722419\n",
      "           date  NationalCode  ActualClosingPrice\n",
      "409  1392-10-01  1.010002e+10         1969.832027\n",
      "           date  NationalCode  ActualClosingPrice\n",
      "427  1392-11-01  1.010002e+10        12876.152288\n",
      "           date  NationalCode  ActualClosingPrice\n",
      "473  1393-02-01  1.010002e+10        28249.877778\n"
     ]
    }
   ],
   "source": [
    "import pandas as pd\n",
    "import jdatetime\n",
    "\n",
    "# Read CSV file into a DataFrame\n",
    "df = pd.read_csv(input('Enter your file name ='))  # add your file name\n",
    "\n",
    "# input NationalCode by user :\n",
    "user = float(input(\"Enter NationalCode: \"))   # Enter your NationalCode\n",
    "# input user:\n",
    "date = input(\"Enter date in the format YYYY-MM-DD: \")  # YYYY-MM-DD\n",
    "\n",
    "# def change time to date format\n",
    "def change_to_date_format(date:str):\n",
    "    slice = date.split('-')\n",
    "    change_date = jdatetime.date(int(slice[0]) , int(slice[1]) , int(slice[2]))\n",
    "    return change_date\n",
    "\n",
    "date1 = change_to_date_format(date)  # give date format\n",
    "\n",
    "# add column date format in table:\n",
    "df['date'] = df['jdate'].apply(change_to_date_format)\n",
    "\n",
    "def add_month(jdate: jdatetime.date, step: int):\n",
    "    if jdate.month + step <= 12:\n",
    "        return change_to_date_format(f\"{jdate.year}-{jdate.month + step}-{jdate.day}\")\n",
    "    else:\n",
    "        return add_month(change_to_date_format(f\"{jdate.year + 1}-{jdate.month}-{jdate.day}\"), step - 12)\n",
    "\n",
    "n = int(input(\"Enter number of months: \"))\n",
    "\n",
    "# show month step by step:\n",
    "for i in range(n):\n",
    "    try:\n",
    "        result_date = add_month(date1, i)\n",
    "        columns = ['date', 'NationalCode', 'ActualClosingPrice']\n",
    "        filtered_df = df.loc[(df['date'] == result_date) & (df['NationalCode'] == user), columns]\n",
    "        if not filtered_df.empty:\n",
    "            # print(df['NationalCode'] == user)\n",
    "            print(filtered_df)\n",
    "    except ValueError as e:\n",
    "        print(e)"
   ]
  }
 ],
 "metadata": {
  "kernelspec": {
   "display_name": "Python 3",
   "language": "python",
   "name": "python3"
  },
  "language_info": {
   "codemirror_mode": {
    "name": "ipython",
    "version": 3
   },
   "file_extension": ".py",
   "mimetype": "text/x-python",
   "name": "python",
   "nbconvert_exporter": "python",
   "pygments_lexer": "ipython3",
   "version": "3.11.7"
  }
 },
 "nbformat": 4,
 "nbformat_minor": 2
}
