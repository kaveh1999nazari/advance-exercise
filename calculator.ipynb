{
 "cells": [
  {
   "cell_type": "code",
   "execution_count": 1,
   "metadata": {},
   "outputs": [
    {
     "name": "stdout",
     "output_type": "stream",
     "text": [
      "Enter your request:\n",
      "    help:2+2\n",
      "    enter 0 or done to exit\n",
      "2 + 5 = 7\n",
      "Enter your request:\n",
      "    help:2+2\n",
      "    enter 0 or done to exit\n",
      "Thanks for using our calculator\n"
     ]
    }
   ],
   "source": [
    "class calculator:\n",
    "    def __init__(self,x:eval=0):\n",
    "        self.x = x\n",
    "    def __add__(self,other):\n",
    "        return self.x + other.x\n",
    "    def __sub__(self,other):\n",
    "        return self.x - other.x\n",
    "    def __mul__(self,other):\n",
    "        return self.x * other.x\n",
    "    def __truediv__(self,other):\n",
    "        return self.x / other.x\n",
    "    \n",
    "while True:\n",
    "    print('''Enter your request:\n",
    "    help:2+2\n",
    "    enter 0 or done to exit''')\n",
    "    user = input('Enter =')\n",
    "    if user =='0' or user == 'done':\n",
    "        print('Thanks for using our calculator')\n",
    "        break\n",
    "    if len(user)> 3 or len(user)<=2:\n",
    "        print('please enter two number to calculate')\n",
    "        continue\n",
    "    operator = None\n",
    "    if '+' in user:\n",
    "        operator = '+'\n",
    "    elif '-' in user:\n",
    "        operator = '-'\n",
    "    elif '*' in user :\n",
    "        operator = '*'\n",
    "    elif '/' in user:\n",
    "        operator = '/'\n",
    "    x = user.split(operator)\n",
    "    a = calculator(int(x[0]))\n",
    "    b = calculator(int(x[1]))\n",
    "    if operator == '+':\n",
    "        print(f'{int(x[0])} + {int(x[1])} = {a+b}')\n",
    "    elif operator == '-':\n",
    "        print(f'{int(x[0])} - {int(x[1])} = {a-b}')\n",
    "    elif operator == '*':\n",
    "        print(f'{int(x[0])} * {int(x[1])} = {a * b}')\n",
    "    elif operator == '/':\n",
    "        print(f'{int(x[0])} / {int(x[1])} = {a / b}')"
   ]
  }
 ],
 "metadata": {
  "kernelspec": {
   "display_name": "Python 3",
   "language": "python",
   "name": "python3"
  },
  "language_info": {
   "codemirror_mode": {
    "name": "ipython",
    "version": 3
   },
   "file_extension": ".py",
   "mimetype": "text/x-python",
   "name": "python",
   "nbconvert_exporter": "python",
   "pygments_lexer": "ipython3",
   "version": "3.9.18"
  }
 },
 "nbformat": 4,
 "nbformat_minor": 2
}
