{
 "cells": [
  {
   "cell_type": "code",
   "execution_count": null,
   "metadata": {},
   "outputs": [],
   "source": [
    "import pandas as pd\n",
    "def Gradebook():\n",
    "    num = int(input('Enter number of students = ?'))\n",
    "    data= {'name':[] , 'id' : [], 'math':[] , 'science' : [] , 'english' : []}\n",
    "    for i in range(num):\n",
    "        name = input('Enter name =')\n",
    "        id = int(input('Enter Id ='))\n",
    "        math = int(input('Enter point_math ='))\n",
    "        science = int(input('Enter point_science ='))\n",
    "        english = int(input('Enter point_english'))\n",
    "        data['name'].append(name) , data['id'].append(id) , data['math'].append(math) , data['science'].append(science), data['english'].append(english)\n",
    "    result = pd.DataFrame(data)\n",
    "    # make_menu:\n",
    "    print(\"\"\"1. show table\n",
    "2. average all\n",
    "3. average by custom\n",
    "4. exit\"\"\")\n",
    "    while True:\n",
    "        choice = int(input('Enter ='))\n",
    "        if choice == 1:print(result)\n",
    "        elif choice == 2 :\n",
    "            sum1 = sum(result['math'])\n",
    "            sum2 = sum(result['science'])\n",
    "            sum3 = sum(result['english'])\n",
    "            sum_all = sum1+sum2+sum3\n",
    "            num = len(result['name'])\n",
    "            ave = sum_all / num\n",
    "            print(f'average of all points = {ave}')\n",
    "        elif choice == 3:\n",
    "            num = int(input('which tables do you want to average ? '))\n",
    "            sum_all = 0\n",
    "            for i in range(num):\n",
    "                name = input('Enter table name =')\n",
    "                sum1 = sum(result[name])\n",
    "                sum_all += sum1\n",
    "            lenght = len(result['id'])\n",
    "            ave = sum_all / lenght\n",
    "            print(f'averange = {ave}')\n",
    "        elif choice == 4: break\n",
    "\n",
    "Gradebook()"
   ]
  }
 ],
 "metadata": {
  "language_info": {
   "name": "python"
  }
 },
 "nbformat": 4,
 "nbformat_minor": 2
}
