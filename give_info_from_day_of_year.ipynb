{
 "cells": [
  {
   "cell_type": "code",
   "execution_count": 3,
   "metadata": {},
   "outputs": [
    {
     "name": "stdout",
     "output_type": "stream",
     "text": [
      "day = 218\n",
      "year = 2023\n",
      "month = August (8)\n",
      "day = 6\n",
      "season = summer\n",
      "full date = 2023-8-6\n"
     ]
    }
   ],
   "source": [
    "from datetime import datetime\n",
    "day = int(input('Enter day of 365 days of year ='))\n",
    "year = datetime.now().year\n",
    "def GetInfo_day(day,year):\n",
    "    # get full info of year-month-day:\n",
    "    date_time = datetime.strptime(f'{year}-{day}','%Y-%j')\n",
    "    # get month name:\n",
    "    month = date_time.strftime('%B')\n",
    "    # get month number:\n",
    "    current_month = date_time.month\n",
    "    # get day number:\n",
    "    current_day = date_time.day\n",
    "    # season:\n",
    "    season = ''\n",
    "    seasons = {'winter':(1,2,3),'spring':(4,5,6),'summer':(7,8,9),'fall':(10,11,12)}\n",
    "    for season_name,months in seasons.items():\n",
    "        if current_month in months:\n",
    "            season = season_name\n",
    "    print(f\"\"\"day = {day}\n",
    "year = {year}\n",
    "month = {month} ({current_month})\n",
    "day = {current_day}\n",
    "season = {season}\n",
    "full date = {year}-{current_month}-{current_day}\"\"\")\n",
    "\n",
    "GetInfo_day(day,year)"
   ]
  },
  {
   "cell_type": "code",
   "execution_count": null,
   "metadata": {},
   "outputs": [],
   "source": []
  }
 ],
 "metadata": {
  "kernelspec": {
   "display_name": "Python 3",
   "language": "python",
   "name": "python3"
  },
  "language_info": {
   "codemirror_mode": {
    "name": "ipython",
    "version": 3
   },
   "file_extension": ".py",
   "mimetype": "text/x-python",
   "name": "python",
   "nbconvert_exporter": "python",
   "pygments_lexer": "ipython3",
   "version": "3.11.7"
  }
 },
 "nbformat": 4,
 "nbformat_minor": 2
}
