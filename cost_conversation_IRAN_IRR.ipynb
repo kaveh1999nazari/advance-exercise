{
 "cells": [
  {
   "cell_type": "code",
   "execution_count": 5,
   "metadata": {},
   "outputs": [
    {
     "name": "stdout",
     "output_type": "stream",
     "text": [
      "*****************\n",
      "tax = 36.8\n",
      "cost_without_tax = 92\n",
      "cost with tax = 128.8\n",
      "*****************\n",
      "*****************\n",
      "tax = 27.6\n",
      "cost_without_tax = 69.0\n",
      "cost with tax = 96.6\n",
      "*****************\n",
      "**********************\n",
      "**********************\n",
      "total cost = 161.0\n",
      "total tax = 64.4\n",
      "total cost_tax = 225.4\n",
      "**********************\n",
      "**********************\n"
     ]
    }
   ],
   "source": [
    "def cost_call(pulse,day,start_dialog):\n",
    "    rate = 46\n",
    "    if 23 < start_dialog < 8:\n",
    "        cost = 0.5 * rate * pulse\n",
    "    elif day == 7:\n",
    "        cost = 0.75 * rate * pulse\n",
    "    else:\n",
    "        cost = rate * pulse\n",
    "    tax = round(cost * 0.4,2)\n",
    "    cost_tax = tax + cost\n",
    "    return cost_tax , cost , tax\n",
    "def Start_Dialog():\n",
    "    start_dialog = int(input('Enter hour between 1 & 24='))\n",
    "    return start_dialog\n",
    "total_tax = 0\n",
    "total_cost = 0\n",
    "total_cost_tax = 0\n",
    "while True:\n",
    "    start_dialog = Start_Dialog()\n",
    "    if start_dialog == -99:break\n",
    "    pulse = int(input('Enter pulse of conversation ='))\n",
    "    day = int(input('Enter day between 1 & 7 ='))\n",
    "    cost_tax , cost , tax = cost_call(pulse , day , start_dialog)\n",
    "    print(f'tax = {tax}')\n",
    "    print(f'cost_without_tax = {cost}')\n",
    "    print(f'cost with tax = {cost_tax}')\n",
    "    print('*****************')\n",
    "    total_tax += tax\n",
    "    total_cost += cost\n",
    "    total_cost_tax += cost_tax\n",
    "print('**********************')\n",
    "print('**********************')\n",
    "print(f'total cost = {total_cost}')\n",
    "print(f'total tax = {round(total_tax,2)}')\n",
    "print(f'total cost_tax = {total_cost_tax}')\n",
    "print('**********************')\n",
    "print('**********************')\n",
    "\n",
    "\n",
    "\n",
    "    \n",
    "    "
   ]
  },
  {
   "cell_type": "code",
   "execution_count": null,
   "metadata": {},
   "outputs": [],
   "source": []
  }
 ],
 "metadata": {
  "kernelspec": {
   "display_name": "Python 3",
   "language": "python",
   "name": "python3"
  },
  "language_info": {
   "codemirror_mode": {
    "name": "ipython",
    "version": 3
   },
   "file_extension": ".py",
   "mimetype": "text/x-python",
   "name": "python",
   "nbconvert_exporter": "python",
   "pygments_lexer": "ipython3",
   "version": "3.11.7"
  }
 },
 "nbformat": 4,
 "nbformat_minor": 2
}
